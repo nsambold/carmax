{
 "cells": [
  {
   "cell_type": "code",
   "execution_count": 1,
   "metadata": {},
   "outputs": [],
   "source": [
    "import pandas as pd\n",
    "import numpy as np\n",
    "from sklearn.preprocessing import OneHotEncoder\n",
    "import json\n",
    "import sys\n",
    "import urllib\n",
    "import requests\n",
    "import seaborn as sn\n",
    "import matplotlib.pyplot as plt\n",
    "# import impyute as impy\n",
    "sys.setrecursionlimit(100000)"
   ]
  },
  {
   "cell_type": "code",
   "execution_count": 2,
   "metadata": {},
   "outputs": [],
   "source": [
    "df = pd.read_csv(\"CaseCompetitionData2021.csv\")\n",
    "df = df.replace('?', np.NaN)"
   ]
  },
  {
   "cell_type": "code",
   "execution_count": 3,
   "metadata": {},
   "outputs": [
    {
     "name": "stdout",
     "output_type": "stream",
     "text": [
      "M    184500\n",
      "F    136106\n",
      "U     35268\n",
      "Name: customer_gender, dtype: int64\n"
     ]
    }
   ],
   "source": [
    "print(df['customer_gender'].value_counts())\n",
    "df1 = df.replace(to_replace = {\"U\": 0.5754726985770696, \"M\": 1, \"F\": 0})\n",
    "# df1['customer_gender'].value_counts()\n",
    "df1['purchase_price'] = df1['purchase_price'].replace(to_replace = {np.NaN: \"15001 - 20000\"})\n",
    "df1['customer_age'] = df1['customer_age'].replace(to_replace = {np.NaN: \"31 - 40\"})"
   ]
  },
  {
   "cell_type": "code",
   "execution_count": 4,
   "metadata": {},
   "outputs": [],
   "source": [
    "# df1['customer_distance_to_dealer'].sort_values(ascending=False)"
   ]
  },
  {
   "cell_type": "code",
   "execution_count": 5,
   "metadata": {},
   "outputs": [],
   "source": [
    "ptr = df1['customer_distance_to_dealer']\n",
    "lam = lambda x: np.random.exponential(1 / 15.7350160666884)\n",
    "df1['customer_distance_to_dealer'] = df1['customer_distance_to_dealer'].where(df1['customer_distance_to_dealer'].notna(), other=lam)\n",
    "df1['customer_distance_to_dealer'] = df1['customer_distance_to_dealer'].apply(float)\n",
    "\n",
    "# for i in range(len(ptr)):\n",
    "#     if ptr[i] == np.NaN:\n",
    "#         print(i)\n",
    "#         ptr.set_value(i, int(np.random.exponential(1 / 15.7350160666884)))"
   ]
  },
  {
   "cell_type": "code",
   "execution_count": 6,
   "metadata": {},
   "outputs": [
    {
     "data": {
      "text/plain": [
       "insert_num                          0\n",
       "purchase_make                       0\n",
       "purchase_model                      0\n",
       "purchase_vehicle_year               0\n",
       "purchase_price                      0\n",
       "trade_in                            0\n",
       "vehicle_financing                   0\n",
       "customer_age                        0\n",
       "customer_income                 45998\n",
       "customer_gender                     0\n",
       "customer_previous_purchase          0\n",
       "customer_distance_to_dealer         0\n",
       "post_purchase_satisfaction     354676\n",
       "vehicle_warranty_used               0\n",
       "subsequent_purchases                0\n",
       "dtype: int64"
      ]
     },
     "execution_count": 6,
     "metadata": {},
     "output_type": "execute_result"
    }
   ],
   "source": [
    "df1.isna().sum()"
   ]
  },
  {
   "cell_type": "code",
   "execution_count": 7,
   "metadata": {},
   "outputs": [
    {
     "name": "stdout",
     "output_type": "stream",
     "text": [
      "20001 - 40000      80855\n",
      "40001 - 60000      77023\n",
      "60001 - 80000      42556\n",
      "0 - 20000          32653\n",
      "80001 - 100000     29633\n",
      "100001 - 120000    15819\n",
      "200001+            10906\n",
      "140001 - 160000     7566\n",
      "120001 - 140000     7459\n",
      "160001 - 180000     3755\n",
      "180001 - 200000     1651\n",
      "Name: customer_income, dtype: int64\n",
      "31 - 40     89410\n",
      "41 - 50     84604\n",
      "21 - 30     83004\n",
      "51 - 60     54801\n",
      "61 - 70     26104\n",
      "71 - 80      8182\n",
      "0 - 20       6133\n",
      "81 - 90      2228\n",
      "101+         1251\n",
      "91 - 100      157\n",
      "Name: customer_age, dtype: int64\n"
     ]
    }
   ],
   "source": [
    "print(df1['customer_income'].value_counts())\n",
    "# print(df1['purchase_price'].value_counts())\n",
    "print(df1['customer_age'].value_counts())"
   ]
  },
  {
   "cell_type": "code",
   "execution_count": 8,
   "metadata": {
    "scrolled": true
   },
   "outputs": [],
   "source": [
    "dic =  {\"31 - 40\":     35,\n",
    "        \"41 - 50\":     45,\n",
    "        \"21 - 30\":     25,\n",
    "        \"51 - 60\":     55,\n",
    "        \"61 - 70\":     65,\n",
    "        \"71 - 80\":     75,\n",
    "        \"0 - 20\":      18,\n",
    "        \"81 - 90\":     85,\n",
    "        \"101+\":        105,\n",
    "        \"91 - 100\":    95}\n",
    "def f(x):\n",
    "    if type(x) == float:\n",
    "        return x\n",
    "    if x[-1] == '+':\n",
    "        return float(x[:-1]) * 1.1\n",
    "    sp = x.split(\" - \")\n",
    "    try:\n",
    "        return (float(sp[0]) + float(sp[1])) / 2\n",
    "    except:\n",
    "        print(x)\n",
    "\n",
    "df1[['purchase_price', 'customer_age', 'customer_income']] = df1[['purchase_price', 'customer_age', 'customer_income']].applymap(f)"
   ]
  },
  {
   "cell_type": "code",
   "execution_count": 9,
   "metadata": {},
   "outputs": [],
   "source": [
    "df = df1.drop(labels=['insert_num', 'post_purchase_satisfaction'], axis=1)\n",
    "df = df[df['customer_income'].notna()]\n",
    "df_onehot = df['purchase_make'].values"
   ]
  },
  {
   "cell_type": "code",
   "execution_count": 10,
   "metadata": {},
   "outputs": [],
   "source": [
    "enc = OneHotEncoder()\n",
    "df_onehot = enc.fit_transform(df_onehot.reshape(len(df_onehot), 1))"
   ]
  },
  {
   "cell_type": "code",
   "execution_count": 11,
   "metadata": {},
   "outputs": [
    {
     "data": {
      "text/plain": [
       "(309876, 40)"
      ]
     },
     "execution_count": 11,
     "metadata": {},
     "output_type": "execute_result"
    }
   ],
   "source": [
    "df_onehot.toarray().shape"
   ]
  },
  {
   "cell_type": "code",
   "execution_count": 12,
   "metadata": {},
   "outputs": [],
   "source": [
    "np.save(\"one_hot.txt\", df_onehot.toarray())\n",
    "df.to_csv(\"quant.csv\")"
   ]
  },
  {
   "cell_type": "code",
   "execution_count": null,
   "metadata": {},
   "outputs": [],
   "source": []
  },
  {
   "cell_type": "code",
   "execution_count": null,
   "metadata": {},
   "outputs": [],
   "source": []
  },
  {
   "cell_type": "code",
   "execution_count": null,
   "metadata": {},
   "outputs": [],
   "source": []
  },
  {
   "cell_type": "code",
   "execution_count": null,
   "metadata": {},
   "outputs": [],
   "source": []
  },
  {
   "cell_type": "code",
   "execution_count": null,
   "metadata": {},
   "outputs": [],
   "source": []
  },
  {
   "cell_type": "code",
   "execution_count": null,
   "metadata": {},
   "outputs": [],
   "source": []
  },
  {
   "cell_type": "code",
   "execution_count": null,
   "metadata": {},
   "outputs": [],
   "source": [
    "np.concatenate((df_onehot.toarray(), df.values), axis=1).shape"
   ]
  },
  {
   "cell_type": "code",
   "execution_count": null,
   "metadata": {},
   "outputs": [],
   "source": [
    "enc.get_feature_names()\n",
    "df_onehot = pd.DataFrame(df_onehot, columns=enc.get_feature_names())\n",
    "df_onehot.head()"
   ]
  },
  {
   "cell_type": "code",
   "execution_count": null,
   "metadata": {},
   "outputs": [],
   "source": [
    "df1.info()   # 355,8794       # for one hot: purchase_make, purchase_price, customer_age, customer_income"
   ]
  },
  {
   "cell_type": "code",
   "execution_count": null,
   "metadata": {},
   "outputs": [],
   "source": [
    "makers = df.groupby(\"purchase_make\")\n",
    "# makers.sum().sort_values(by=[\"subsequent_purchases\"])[\"subsequent_purchases\"] * makers.mean().sort_values(by=[\"subsequent_purchases\"]) \n",
    "df.columns"
   ]
  },
  {
   "cell_type": "code",
   "execution_count": null,
   "metadata": {},
   "outputs": [],
   "source": [
    "corrMatrix = df[['trade_in', 'vehicle_financing', 'purchase_vehicle_year',\n",
    "                'customer_age', 'customer_income', 'post_purchase_satisfaction',\n",
    "                'vehicle_warranty_used', 'customer_previous_purchase','subsequent_purchases']].corr()\n",
    "sn.heatmap(corrMatrix, annot=True)\n",
    "plt.show()"
   ]
  },
  {
   "cell_type": "code",
   "execution_count": null,
   "metadata": {},
   "outputs": [],
   "source": [
    "\n",
    "def get_bodry(make, model, year):\n",
    "    where = urllib.parse.quote_plus(\"\"\"\n",
    "    {\n",
    "        \"Make\": \"BMW\",\n",
    "        \"Model\": \"3 Series\",\n",
    "        \"Year\": 2010\n",
    "    }\n",
    "    \"\"\")\n",
    "    url = 'https://parseapi.back4app.com/classes/Carmodels_Car_Model_List?limit=10&order=Category&keys=Model,Category&where=%s' % where\n",
    "    headers = {\n",
    "        'X-Parse-Application-Id': 'rkypmU4bqzqB1bKeDvI2kfn3xaBmL8u6AkEzy0Hp', # This is your app's application id\n",
    "        'X-Parse-REST-API-Key': 'iBez9YtHQLKFidNNQv9BxbPytNrSRmGzsUpIUea6' # This is your app's REST API key\n",
    "    }\n",
    "    data = json.loads(requests.get(url, headers=headers).content.decode('utf-8')) # Here you have the data that you need\n",
    "    print(json.dumps(data, indent=2))"
   ]
  },
  {
   "cell_type": "code",
   "execution_count": null,
   "metadata": {},
   "outputs": [],
   "source": [
    "df.groupby(\"customer_age\").mean()[[\"subsequent_purchases\", \"customer_previous_purchase\"]].plot()"
   ]
  },
  {
   "cell_type": "code",
   "execution_count": null,
   "metadata": {},
   "outputs": [],
   "source": [
    "np.random.exponential(15.7350160666884)"
   ]
  },
  {
   "cell_type": "code",
   "execution_count": null,
   "metadata": {},
   "outputs": [],
   "source": []
  },
  {
   "cell_type": "code",
   "execution_count": null,
   "metadata": {},
   "outputs": [],
   "source": []
  }
 ],
 "metadata": {
  "kernelspec": {
   "display_name": "Python 3",
   "language": "python",
   "name": "python3"
  },
  "language_info": {
   "codemirror_mode": {
    "name": "ipython",
    "version": 3
   },
   "file_extension": ".py",
   "mimetype": "text/x-python",
   "name": "python",
   "nbconvert_exporter": "python",
   "pygments_lexer": "ipython3",
   "version": "3.8.6"
  }
 },
 "nbformat": 4,
 "nbformat_minor": 4
}
