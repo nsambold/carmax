{
 "cells": [
  {
   "cell_type": "code",
   "execution_count": 27,
   "metadata": {},
   "outputs": [],
   "source": [
    "import pandas as pd\n",
    "import numpy as np\n",
    "import sklearn\n",
    "import json\n",
    "import urllib\n",
    "import requests\n",
    "import seaborn as sn\n",
    "import matplotlib.pyplot as plt"
   ]
  },
  {
   "cell_type": "code",
   "execution_count": 2,
   "metadata": {},
   "outputs": [],
   "source": [
    "df = pd.read_csv(\"CaseCompetitionData2021.csv\")\n",
    "df = df.replace('?', np.NaN)"
   ]
  },
  {
   "cell_type": "code",
   "execution_count": 40,
   "metadata": {},
   "outputs": [
    {
     "data": {
      "text/html": [
       "<div>\n",
       "<style scoped>\n",
       "    .dataframe tbody tr th:only-of-type {\n",
       "        vertical-align: middle;\n",
       "    }\n",
       "\n",
       "    .dataframe tbody tr th {\n",
       "        vertical-align: top;\n",
       "    }\n",
       "\n",
       "    .dataframe thead th {\n",
       "        text-align: right;\n",
       "    }\n",
       "</style>\n",
       "<table border=\"1\" class=\"dataframe\">\n",
       "  <thead>\n",
       "    <tr style=\"text-align: right;\">\n",
       "      <th></th>\n",
       "      <th>insert_num</th>\n",
       "      <th>purchase_vehicle_year</th>\n",
       "      <th>trade_in</th>\n",
       "      <th>vehicle_financing</th>\n",
       "      <th>customer_previous_purchase</th>\n",
       "      <th>vehicle_warranty_used</th>\n",
       "      <th>subsequent_purchases</th>\n",
       "    </tr>\n",
       "  </thead>\n",
       "  <tbody>\n",
       "    <tr>\n",
       "      <th>count</th>\n",
       "      <td>355874.000000</td>\n",
       "      <td>355874.000000</td>\n",
       "      <td>355874.000000</td>\n",
       "      <td>355874.000000</td>\n",
       "      <td>355874.000000</td>\n",
       "      <td>355874.000000</td>\n",
       "      <td>355874.000000</td>\n",
       "    </tr>\n",
       "    <tr>\n",
       "      <th>mean</th>\n",
       "      <td>177937.500000</td>\n",
       "      <td>2009.527867</td>\n",
       "      <td>0.466173</td>\n",
       "      <td>0.779343</td>\n",
       "      <td>0.204766</td>\n",
       "      <td>0.252100</td>\n",
       "      <td>0.533416</td>\n",
       "    </tr>\n",
       "    <tr>\n",
       "      <th>std</th>\n",
       "      <td>102732.119186</td>\n",
       "      <td>2.491927</td>\n",
       "      <td>0.498855</td>\n",
       "      <td>0.414690</td>\n",
       "      <td>0.403531</td>\n",
       "      <td>0.434219</td>\n",
       "      <td>1.190327</td>\n",
       "    </tr>\n",
       "    <tr>\n",
       "      <th>min</th>\n",
       "      <td>1.000000</td>\n",
       "      <td>1953.000000</td>\n",
       "      <td>0.000000</td>\n",
       "      <td>0.000000</td>\n",
       "      <td>0.000000</td>\n",
       "      <td>0.000000</td>\n",
       "      <td>0.000000</td>\n",
       "    </tr>\n",
       "    <tr>\n",
       "      <th>25%</th>\n",
       "      <td>88969.250000</td>\n",
       "      <td>2008.000000</td>\n",
       "      <td>0.000000</td>\n",
       "      <td>1.000000</td>\n",
       "      <td>0.000000</td>\n",
       "      <td>0.000000</td>\n",
       "      <td>0.000000</td>\n",
       "    </tr>\n",
       "    <tr>\n",
       "      <th>50%</th>\n",
       "      <td>177937.500000</td>\n",
       "      <td>2010.000000</td>\n",
       "      <td>0.000000</td>\n",
       "      <td>1.000000</td>\n",
       "      <td>0.000000</td>\n",
       "      <td>0.000000</td>\n",
       "      <td>0.000000</td>\n",
       "    </tr>\n",
       "    <tr>\n",
       "      <th>75%</th>\n",
       "      <td>266905.750000</td>\n",
       "      <td>2011.000000</td>\n",
       "      <td>1.000000</td>\n",
       "      <td>1.000000</td>\n",
       "      <td>0.000000</td>\n",
       "      <td>1.000000</td>\n",
       "      <td>1.000000</td>\n",
       "    </tr>\n",
       "    <tr>\n",
       "      <th>max</th>\n",
       "      <td>355874.000000</td>\n",
       "      <td>2014.000000</td>\n",
       "      <td>1.000000</td>\n",
       "      <td>1.000000</td>\n",
       "      <td>1.000000</td>\n",
       "      <td>1.000000</td>\n",
       "      <td>10.000000</td>\n",
       "    </tr>\n",
       "  </tbody>\n",
       "</table>\n",
       "</div>"
      ],
      "text/plain": [
       "          insert_num  purchase_vehicle_year       trade_in  vehicle_financing  \\\n",
       "count  355874.000000          355874.000000  355874.000000      355874.000000   \n",
       "mean   177937.500000            2009.527867       0.466173           0.779343   \n",
       "std    102732.119186               2.491927       0.498855           0.414690   \n",
       "min         1.000000            1953.000000       0.000000           0.000000   \n",
       "25%     88969.250000            2008.000000       0.000000           1.000000   \n",
       "50%    177937.500000            2010.000000       0.000000           1.000000   \n",
       "75%    266905.750000            2011.000000       1.000000           1.000000   \n",
       "max    355874.000000            2014.000000       1.000000           1.000000   \n",
       "\n",
       "       customer_previous_purchase  vehicle_warranty_used  subsequent_purchases  \n",
       "count               355874.000000          355874.000000         355874.000000  \n",
       "mean                     0.204766               0.252100              0.533416  \n",
       "std                      0.403531               0.434219              1.190327  \n",
       "min                      0.000000               0.000000              0.000000  \n",
       "25%                      0.000000               0.000000              0.000000  \n",
       "50%                      0.000000               0.000000              0.000000  \n",
       "75%                      0.000000               1.000000              1.000000  \n",
       "max                      1.000000               1.000000             10.000000  "
      ]
     },
     "execution_count": 40,
     "metadata": {},
     "output_type": "execute_result"
    }
   ],
   "source": [
    "df.describe()"
   ]
  },
  {
   "cell_type": "code",
   "execution_count": 5,
   "metadata": {},
   "outputs": [
    {
     "data": {
      "text/html": [
       "<div>\n",
       "<style scoped>\n",
       "    .dataframe tbody tr th:only-of-type {\n",
       "        vertical-align: middle;\n",
       "    }\n",
       "\n",
       "    .dataframe tbody tr th {\n",
       "        vertical-align: top;\n",
       "    }\n",
       "\n",
       "    .dataframe thead th {\n",
       "        text-align: right;\n",
       "    }\n",
       "</style>\n",
       "<table border=\"1\" class=\"dataframe\">\n",
       "  <thead>\n",
       "    <tr style=\"text-align: right;\">\n",
       "      <th></th>\n",
       "      <th>insert_num</th>\n",
       "      <th>purchase_make</th>\n",
       "      <th>purchase_model</th>\n",
       "      <th>purchase_vehicle_year</th>\n",
       "      <th>purchase_price</th>\n",
       "      <th>trade_in</th>\n",
       "      <th>vehicle_financing</th>\n",
       "      <th>customer_age</th>\n",
       "      <th>customer_income</th>\n",
       "      <th>customer_gender</th>\n",
       "      <th>customer_previous_purchase</th>\n",
       "      <th>customer_distance_to_dealer</th>\n",
       "      <th>post_purchase_satisfaction</th>\n",
       "      <th>vehicle_warranty_used</th>\n",
       "      <th>subsequent_purchases</th>\n",
       "    </tr>\n",
       "  </thead>\n",
       "  <tbody>\n",
       "    <tr>\n",
       "      <th>0</th>\n",
       "      <td>81690</td>\n",
       "      <td>DODGE</td>\n",
       "      <td>CHARGER</td>\n",
       "      <td>2012</td>\n",
       "      <td>15001 - 20000</td>\n",
       "      <td>1</td>\n",
       "      <td>1</td>\n",
       "      <td>21 - 30</td>\n",
       "      <td>40001 - 60000</td>\n",
       "      <td>U</td>\n",
       "      <td>0</td>\n",
       "      <td>8</td>\n",
       "      <td>?</td>\n",
       "      <td>0</td>\n",
       "      <td>1</td>\n",
       "    </tr>\n",
       "    <tr>\n",
       "      <th>1</th>\n",
       "      <td>109994</td>\n",
       "      <td>FORD</td>\n",
       "      <td>F150</td>\n",
       "      <td>2007</td>\n",
       "      <td>15001 - 20000</td>\n",
       "      <td>0</td>\n",
       "      <td>0</td>\n",
       "      <td>51 - 60</td>\n",
       "      <td>0 - 20000</td>\n",
       "      <td>F</td>\n",
       "      <td>1</td>\n",
       "      <td>19</td>\n",
       "      <td>?</td>\n",
       "      <td>0</td>\n",
       "      <td>0</td>\n",
       "    </tr>\n",
       "    <tr>\n",
       "      <th>2</th>\n",
       "      <td>11399</td>\n",
       "      <td>BMW</td>\n",
       "      <td>328</td>\n",
       "      <td>2010</td>\n",
       "      <td>25001 - 30000</td>\n",
       "      <td>1</td>\n",
       "      <td>1</td>\n",
       "      <td>41 - 50</td>\n",
       "      <td>60001 - 80000</td>\n",
       "      <td>F</td>\n",
       "      <td>1</td>\n",
       "      <td>21</td>\n",
       "      <td>?</td>\n",
       "      <td>0</td>\n",
       "      <td>0</td>\n",
       "    </tr>\n",
       "    <tr>\n",
       "      <th>3</th>\n",
       "      <td>214156</td>\n",
       "      <td>LEXUS</td>\n",
       "      <td>GS 300</td>\n",
       "      <td>2003</td>\n",
       "      <td>10001 - 15000</td>\n",
       "      <td>0</td>\n",
       "      <td>1</td>\n",
       "      <td>21 - 30</td>\n",
       "      <td>20001 - 40000</td>\n",
       "      <td>M</td>\n",
       "      <td>0</td>\n",
       "      <td>8</td>\n",
       "      <td>?</td>\n",
       "      <td>0</td>\n",
       "      <td>0</td>\n",
       "    </tr>\n",
       "    <tr>\n",
       "      <th>4</th>\n",
       "      <td>36685</td>\n",
       "      <td>CHEVROLET</td>\n",
       "      <td>CRUZE</td>\n",
       "      <td>2012</td>\n",
       "      <td>15001 - 20000</td>\n",
       "      <td>1</td>\n",
       "      <td>1</td>\n",
       "      <td>31 - 40</td>\n",
       "      <td>120001 - 140000</td>\n",
       "      <td>M</td>\n",
       "      <td>1</td>\n",
       "      <td>5</td>\n",
       "      <td>?</td>\n",
       "      <td>1</td>\n",
       "      <td>1</td>\n",
       "    </tr>\n",
       "  </tbody>\n",
       "</table>\n",
       "</div>"
      ],
      "text/plain": [
       "   insert_num purchase_make purchase_model  purchase_vehicle_year  \\\n",
       "0       81690         DODGE        CHARGER                   2012   \n",
       "1      109994          FORD           F150                   2007   \n",
       "2       11399           BMW            328                   2010   \n",
       "3      214156         LEXUS         GS 300                   2003   \n",
       "4       36685     CHEVROLET          CRUZE                   2012   \n",
       "\n",
       "  purchase_price  trade_in  vehicle_financing customer_age  customer_income  \\\n",
       "0  15001 - 20000         1                  1      21 - 30    40001 - 60000   \n",
       "1  15001 - 20000         0                  0      51 - 60        0 - 20000   \n",
       "2  25001 - 30000         1                  1      41 - 50    60001 - 80000   \n",
       "3  10001 - 15000         0                  1      21 - 30    20001 - 40000   \n",
       "4  15001 - 20000         1                  1      31 - 40  120001 - 140000   \n",
       "\n",
       "  customer_gender  customer_previous_purchase customer_distance_to_dealer  \\\n",
       "0               U                           0                           8   \n",
       "1               F                           1                          19   \n",
       "2               F                           1                          21   \n",
       "3               M                           0                           8   \n",
       "4               M                           1                           5   \n",
       "\n",
       "  post_purchase_satisfaction  vehicle_warranty_used  subsequent_purchases  \n",
       "0                          ?                      0                     1  \n",
       "1                          ?                      0                     0  \n",
       "2                          ?                      0                     0  \n",
       "3                          ?                      0                     0  \n",
       "4                          ?                      1                     1  "
      ]
     },
     "execution_count": 5,
     "metadata": {},
     "output_type": "execute_result"
    }
   ],
   "source": [
    "df.head()"
   ]
  },
  {
   "cell_type": "code",
   "execution_count": 19,
   "metadata": {},
   "outputs": [
    {
     "data": {
      "text/plain": [
       "Index(['insert_num', 'purchase_make', 'purchase_model',\n",
       "       'purchase_vehicle_year', 'purchase_price', 'trade_in',\n",
       "       'vehicle_financing', 'customer_age', 'customer_income',\n",
       "       'customer_gender', 'customer_previous_purchase',\n",
       "       'customer_distance_to_dealer', 'post_purchase_satisfaction',\n",
       "       'vehicle_warranty_used', 'subsequent_purchases'],\n",
       "      dtype='object')"
      ]
     },
     "execution_count": 19,
     "metadata": {},
     "output_type": "execute_result"
    }
   ],
   "source": [
    "makers = df.groupby(\"purchase_make\")\n",
    "# makers.sum().sort_values(by=[\"subsequent_purchases\"])[\"subsequent_purchases\"] * makers.mean().sort_values(by=[\"subsequent_purchases\"]) \n",
    "df.columns"
   ]
  },
  {
   "cell_type": "code",
   "execution_count": 31,
   "metadata": {},
   "outputs": [
    {
     "data": {
      "image/png": "[encoded data removed]",
      "text/plain": [
       "<Figure size 432x288 with 2 Axes>"
      ]
     },
     "metadata": {
      "needs_background": "light"
     },
     "output_type": "display_data"
    }
   ],
   "source": [
    "corrMatrix = df[['trade_in', 'vehicle_financing', 'purchase_vehicle_year',\n",
    "                'customer_age', 'customer_income', 'post_purchase_satisfaction',\n",
    "                'vehicle_warranty_used', 'customer_previous_purchase','subsequent_purchases']].corr()\n",
    "sn.heatmap(corrMatrix, annot=True)\n",
    "plt.show()"
   ]
  },
  {
   "cell_type": "code",
   "execution_count": null,
   "metadata": {},
   "outputs": [],
   "source": [
    "\n",
    "def get_bodry(make, model, year):\n",
    "    where = urllib.parse.quote_plus(\"\"\"\n",
    "    {\n",
    "        \"Make\": \"BMW\",\n",
    "        \"Model\": \"3 Series\",\n",
    "        \"Year\": 2010\n",
    "    }\n",
    "    \"\"\")\n",
    "    url = 'https://parseapi.back4app.com/classes/Carmodels_Car_Model_List?limit=10&order=Category&keys=Model,Category&where=%s' % where\n",
    "    headers = {\n",
    "        'X-Parse-Application-Id': 'rkypmU4bqzqB1bKeDvI2kfn3xaBmL8u6AkEzy0Hp', # This is your app's application id\n",
    "        'X-Parse-REST-API-Key': 'iBez9YtHQLKFidNNQv9BxbPytNrSRmGzsUpIUea6' # This is your app's REST API key\n",
    "    }\n",
    "    data = json.loads(requests.get(url, headers=headers).content.decode('utf-8')) # Here you have the data that you need\n",
    "    print(json.dumps(data, indent=2))"
   ]
  },
  {
   "cell_type": "code",
   "execution_count": 43,
   "metadata": {},
   "outputs": [
    {
     "data": {
      "text/plain": [
       "<AxesSubplot:xlabel='customer_age'>"
      ]
     },
     "execution_count": 43,
     "metadata": {},
     "output_type": "execute_result"
    },
    {
     "data": {
      "image/png": "[encoded data removed]",
      "text/plain": [
       "<Figure size 432x288 with 1 Axes>"
      ]
     },
     "metadata": {
      "needs_background": "light"
     },
     "output_type": "display_data"
    }
   ],
   "source": [
    "df.groupby(\"customer_age\").mean()[[\"subsequent_purchases\", \"customer_previous_purchase\"]].plot()"
   ]
  },
  {
   "cell_type": "code",
   "execution_count": null,
   "metadata": {},
   "outputs": [],
   "source": []
  }
 ],
 "metadata": {
  "language_info": {
   "codemirror_mode": {
    "name": "ipython",
    "version": 3
   },
   "file_extension": ".py",
   "mimetype": "text/x-python",
   "name": "python",
   "nbconvert_exporter": "python",
   "pygments_lexer": "ipython3",
   "version": "3.8.5"
  }
 },
 "nbformat": 4,
 "nbformat_minor": 4
}
